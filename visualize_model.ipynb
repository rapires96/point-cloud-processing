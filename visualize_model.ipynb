{
 "cells": [
  {
   "cell_type": "markdown",
   "id": "2dee2c44-a99d-4343-be0f-cdb103d4550f",
   "metadata": {},
   "source": [
    "### Imports"
   ]
  },
  {
   "cell_type": "code",
   "execution_count": 3,
   "id": "968c9277-ac65-4bf9-b74d-88ab5e8a4696",
   "metadata": {
    "tags": []
   },
   "outputs": [],
   "source": [
    "\"\"\"Execute visualize model\"\"\"\n",
    "import os\n",
    "%matplotlib widget"
   ]
  },
  {
   "cell_type": "markdown",
   "id": "071b87bc-08e0-48b2-9a8f-e924dd983ff4",
   "metadata": {},
   "source": [
    "### Paths"
   ]
  },
  {
   "cell_type": "code",
   "execution_count": 4,
   "id": "3ef70184-761b-4971-8b18-9362627a40a8",
   "metadata": {
    "tags": []
   },
   "outputs": [],
   "source": [
    "path_code = '/home/rapires/Documents/Packages/colmap/scripts/python/test_visualize_model.py'\n",
    "#/home/rapires/Documents/Exp_Thesis/OTANIEMI/otaniemi_model/back_iphone_seq/sparse/0 BIG MODEL\n",
    "#/home/rapires/Documents/Exp_Thesis/OTANIEMI/otaniemi_25_04_2021/Models/model1_cam_center_10fps/sparse/0 SMALL MODELS\n",
    "#big_model = '/home/rapires/Documents/Exp_Thesis/OTANIEMI/otaniemi_model/back_iphone_seq/sparse/0'\n",
    "\n",
    "model = '/home/rapires/Documents/Estudios/Exp_Thesis/demo/model1_cam_center_10fps/sparse/0'\n",
    "path_model = small_model\n",
    "model_format = '.txt'\n",
    "# /home/rapires/Documents/Exp_Thesis/python-scripts/img_cartesian.txt FILE WERE IMG CARTESIAN COORDINATES WILL BE SAVED\n",
    "# REMEMBER TO ERASE CONTENTS OF IMAGE CART"
   ]
  },
  {
   "cell_type": "code",
   "execution_count": 5,
   "id": "0bab74db-2232-4556-a543-4a0ea28123a2",
   "metadata": {
    "tags": []
   },
   "outputs": [
    {
     "data": {
      "text/plain": [
       "256"
      ]
     },
     "execution_count": 5,
     "metadata": {},
     "output_type": "execute_result"
    }
   ],
   "source": [
    "command = f'python {path_code} --input_model {path_model} --input_format {model_format}'\n",
    "os.system(command)"
   ]
  }
 ],
 "metadata": {
  "kernelspec": {
   "display_name": "Python 3",
   "language": "python",
   "name": "python3"
  },
  "language_info": {
   "codemirror_mode": {
    "name": "ipython",
    "version": 3
   },
   "file_extension": ".py",
   "mimetype": "text/x-python",
   "name": "python",
   "nbconvert_exporter": "python",
   "pygments_lexer": "ipython3",
   "version": "3.8.2"
  }
 },
 "nbformat": 4,
 "nbformat_minor": 5
}

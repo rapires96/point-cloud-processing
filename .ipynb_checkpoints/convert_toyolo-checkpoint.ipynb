{
 "cells": [
  {
   "cell_type": "code",
   "execution_count": 1,
   "id": "812279e0-d16d-4969-86ff-ce23f66932bb",
   "metadata": {},
   "outputs": [],
   "source": [
    "import os\n",
    "import argparse\n",
    "import glob\n",
    "import pathlib\n",
    "import re"
   ]
  },
  {
   "cell_type": "code",
   "execution_count": 2,
   "id": "7a745515-17db-48f9-8362-f70683174300",
   "metadata": {},
   "outputs": [],
   "source": [
    "TXTDIR = os.getenv('PATH')\n",
    "img_size = (1920, 1080)\n",
    "index = lambda s: int(str(s.rsplit('_',1)[1]).split('.')[0])\n",
    "label_files = glob.glob(str(pathlib.Path(TXTDIR,'center*.txt')))\n",
    "label_files.sort(key=index)"
   ]
  },
  {
   "cell_type": "code",
   "execution_count": 3,
   "id": "3f6b6426-72dd-4fcf-9b37-5852559ed4b5",
   "metadata": {},
   "outputs": [],
   "source": [
    "def convert(img_size, box):\n",
    "    #'label': 0, 'x': 0.771094, 'y': 0.437500, 'width':0.026562, 'height':0.075000\n",
    "    for idx, b in enumerate(box):\n",
    "        abs_width = img_size[0] * b[3]\n",
    "        abs_height = img_size[1] * b[4]\n",
    "        box_x = img_size[0] * b[1]\n",
    "        box_y = img_size[1] * b[2]\n",
    "        left_x = box_x - (abs_width/2)\n",
    "        top_y = box_y - (abs_height/2)\n",
    "        box[idx] = [int(left_x), int(top_y), int(abs_width), int(abs_height)]\n",
    "    \n",
    "    return box"
   ]
  },
  {
   "cell_type": "markdown",
   "id": "9f6c6478-4edd-47e7-9c79-f62c1b7d617a",
   "metadata": {},
   "source": [
    "## case 1"
   ]
  },
  {
   "cell_type": "code",
   "execution_count": 4,
   "id": "1454ceb5-68d1-4583-96d1-7f99f8d15da6",
   "metadata": {
    "tags": []
   },
   "outputs": [],
   "source": [
    "coordinates = {}\n",
    "for file in label_files:\n",
    "    with open(file, 'r') as f:\n",
    "        lines = f.readlines()\n",
    "    for idx, line in enumerate(lines):\n",
    "        line = str(re.sub('\\n', '', line)).split(' ')\n",
    "        line = [float(l) for l in line] \n",
    "        lines[idx] = line\n",
    "        \n",
    "    file = file.rsplit('/', 1)[1]\n",
    "    file = str(re.sub('txt', 'jpg', file))\n",
    "    coordinates[file] = (lines)\n",
    "#print(coordinates)   "
   ]
  },
  {
   "cell_type": "code",
   "execution_count": 5,
   "id": "86493e37-3f80-4c76-ad66-447ce1ede556",
   "metadata": {
    "tags": []
   },
   "outputs": [],
   "source": [
    "for key , value in coordinates.items(): coordinates[key] = convert(img_size, value)\n",
    "#print(coordinates)"
   ]
  },
  {
   "cell_type": "code",
   "execution_count": 6,
   "id": "3bbdd269-39ae-4b6f-b247-0a14670f3b89",
   "metadata": {
    "tags": []
   },
   "outputs": [],
   "source": [
    "         \n",
    "yolo_results =  str(pathlib.Path(TXTDIR ,'yolo_results.txt'))\n",
    "os.system(f'touch {yolo_results}')\n",
    "#print(img, box[img])\n",
    "\n",
    "with open(yolo_results, 'w') as f:\n",
    "    for key, values in coordinates.items():\n",
    "        #nimg = re.sub(r'txt', r'jpg', img)\n",
    "        f.write(key+':\\n')\n",
    "        for value in values:\n",
    "            yolo_pred=f'pedestrian-crossing: 100% (left_x: {value[0]} '+\\\n",
    "            f'top_y: {value[1]} width: {value[2]} height: {value[3]})'\n",
    "            f.write(yolo_pred+'\\n')  "
   ]
  },
  {
   "cell_type": "code",
   "execution_count": null,
   "id": "00e741f4-977d-4d37-9896-14daf577b282",
   "metadata": {},
   "outputs": [],
   "source": []
  }
 ],
 "metadata": {
  "kernelspec": {
   "display_name": "Python 3",
   "language": "python",
   "name": "python3"
  },
  "language_info": {
   "codemirror_mode": {
    "name": "ipython",
    "version": 3
   },
   "file_extension": ".py",
   "mimetype": "text/x-python",
   "name": "python",
   "nbconvert_exporter": "python",
   "pygments_lexer": "ipython3",
   "version": "3.8.2"
  }
 },
 "nbformat": 4,
 "nbformat_minor": 5
}

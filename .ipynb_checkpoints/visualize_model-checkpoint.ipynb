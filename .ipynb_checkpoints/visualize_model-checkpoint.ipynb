{
 "cells": [
  {
   "cell_type": "markdown",
   "id": "2dee2c44-a99d-4343-be0f-cdb103d4550f",
   "metadata": {},
   "source": [
    "### Imports"
   ]
  },
  {
   "cell_type": "code",
   "execution_count": 1,
   "id": "968c9277-ac65-4bf9-b74d-88ab5e8a4696",
   "metadata": {
    "tags": []
   },
   "outputs": [],
   "source": [
    "\"\"\"Execute visualize model\"\"\"\n",
    "import os\n",
    "from pathlib import Path\n",
    "%matplotlib widget"
   ]
  },
  {
   "cell_type": "markdown",
   "id": "071b87bc-08e0-48b2-9a8f-e924dd983ff4",
   "metadata": {},
   "source": [
    "### Paths"
   ]
  },
  {
   "cell_type": "code",
   "execution_count": 2,
   "id": "0d5631d6-db2c-4d70-a83b-6fc954636f50",
   "metadata": {
    "collapsed": true,
    "jupyter": {
     "outputs_hidden": true
    },
    "tags": []
   },
   "outputs": [
    {
     "ename": "NameError",
     "evalue": "name 'small_model' is not defined",
     "output_type": "error",
     "traceback": [
      "\u001b[0;31m---------------------------------------------------------------------------\u001b[0m",
      "\u001b[0;31mNameError\u001b[0m                                 Traceback (most recent call last)",
      "\u001b[0;32m<ipython-input-2-d3dafeb7ecf5>\u001b[0m in \u001b[0;36m<module>\u001b[0;34m\u001b[0m\n\u001b[1;32m      3\u001b[0m \u001b[0mscript\u001b[0m \u001b[0;34m=\u001b[0m \u001b[0mPath\u001b[0m\u001b[0;34m(\u001b[0m\u001b[0mp\u001b[0m\u001b[0;34m,\u001b[0m \u001b[0;34m'test_visualize_model.py'\u001b[0m\u001b[0;34m)\u001b[0m\u001b[0;34m\u001b[0m\u001b[0;34m\u001b[0m\u001b[0m\n\u001b[1;32m      4\u001b[0m \u001b[0;31m######\u001b[0m\u001b[0;34m\u001b[0m\u001b[0;34m\u001b[0m\u001b[0;34m\u001b[0m\u001b[0m\n\u001b[0;32m----> 5\u001b[0;31m \u001b[0mpath_model\u001b[0m \u001b[0;34m=\u001b[0m \u001b[0msmall_model\u001b[0m\u001b[0;34m\u001b[0m\u001b[0;34m\u001b[0m\u001b[0m\n\u001b[0m\u001b[1;32m      6\u001b[0m \u001b[0mmodel_format\u001b[0m \u001b[0;34m=\u001b[0m \u001b[0;34m'.txt'\u001b[0m\u001b[0;34m\u001b[0m\u001b[0;34m\u001b[0m\u001b[0m\n\u001b[1;32m      7\u001b[0m \u001b[0;31m# REMEMBER TO ERASE CONTENTS OF IMAGE CART\u001b[0m\u001b[0;34m\u001b[0m\u001b[0;34m\u001b[0m\u001b[0;34m\u001b[0m\u001b[0m\n",
      "\u001b[0;31mNameError\u001b[0m: name 'small_model' is not defined"
     ]
    }
   ],
   "source": [
    "p = os.getenv('PATH')\n",
    "m = os.getenv('MODEL')\n",
    "script = Path(p, 'test_visualize_model.py')\n",
    "######\n",
    "path_model = m\n",
    "model_format = '.txt'\n",
    "# REMEMBER TO ERASE CONTENTS OF IMAGE CART"
   ]
  },
  {
   "cell_type": "code",
   "execution_count": 5,
   "id": "0bab74db-2232-4556-a543-4a0ea28123a2",
   "metadata": {
    "tags": []
   },
   "outputs": [
    {
     "data": {
      "text/plain": [
       "256"
      ]
     },
     "execution_count": 5,
     "metadata": {},
     "output_type": "execute_result"
    }
   ],
   "source": [
    "command = f'python {path_code} --input_model {path_model} --input_format {model_format}'\n",
    "os.system(command)"
   ]
  }
 ],
 "metadata": {
  "kernelspec": {
   "display_name": "Python 3",
   "language": "python",
   "name": "python3"
  },
  "language_info": {
   "codemirror_mode": {
    "name": "ipython",
    "version": 3
   },
   "file_extension": ".py",
   "mimetype": "text/x-python",
   "name": "python",
   "nbconvert_exporter": "python",
   "pygments_lexer": "ipython3",
   "version": "3.8.2"
  }
 },
 "nbformat": 4,
 "nbformat_minor": 5
}

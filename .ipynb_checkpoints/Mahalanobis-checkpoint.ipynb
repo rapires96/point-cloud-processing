{
 "cells": [
  {
   "cell_type": "markdown",
   "id": "7a0de99d-0aa9-4b4d-ae5f-dedef9ede9cc",
   "metadata": {},
   "source": [
    "# Mahalanobis distance"
   ]
  },
  {
   "cell_type": "code",
   "execution_count": 2,
   "id": "a0866d07-beb0-4c87-8cae-e7df7fa081b5",
   "metadata": {
    "jupyter": {
     "source_hidden": true
    },
    "tags": []
   },
   "outputs": [],
   "source": [
    "from scipy.spatial.distance import mahalanobis\n",
    "import numpy as np\n",
    "import open3d as o3d\n",
    "from pathlib import Path\n",
    "import re\n",
    "import pandas as pd\n",
    "from scipy.stats import chi2\n",
    "from matplotlib import patches\n",
    "import matplotlib.pyplot as plt\n",
    "import math\n",
    "#from scipy.spatial.distance.mahalanobis"
   ]
  },
  {
   "cell_type": "markdown",
   "id": "3234e7bc-7e14-437c-b40a-627e0a496e11",
   "metadata": {},
   "source": [
    "### Colors"
   ]
  },
  {
   "cell_type": "code",
   "execution_count": 3,
   "id": "fa7b9b35-f451-4fd0-a748-6fad63a2778f",
   "metadata": {
    "jupyter": {
     "source_hidden": true
    },
    "tags": []
   },
   "outputs": [],
   "source": [
    "#0.788,0.301,0.878 purple\n",
    "#0.023,0.698,0.078 green\n",
    "#0.160,0.231,0.839 blue\n",
    "#0.741,0.741,0.741 grey"
   ]
  },
  {
   "cell_type": "markdown",
   "id": "8220fa09-8f6f-4198-bb24-3661e6005175",
   "metadata": {},
   "source": [
    "### Read Model & GRID"
   ]
  },
  {
   "cell_type": "code",
   "execution_count": 4,
   "id": "1cff7bbb-4b17-4447-963e-5f3dda456415",
   "metadata": {
    "jupyter": {
     "source_hidden": true
    },
    "tags": []
   },
   "outputs": [],
   "source": [
    "def readmodel(model_path):\n",
    "    model = np.loadtxt(model_path, dtype=float, delimiter = ',')\n",
    "    points = [model[i][:3] for i in range(len(model))]\n",
    "    colors = [model[i][3:] for i in range(len(model))]\n",
    "    points = np.array(points)\n",
    "    colors = np.array(colors)\n",
    "    pcd = o3d.geometry.PointCloud()\n",
    "    pcd.points = o3d.utility.Vector3dVector(points)\n",
    "    pcd.colors = o3d.utility.Vector3dVector(colors)\n",
    "    return pcd"
   ]
  },
  {
   "cell_type": "code",
   "execution_count": 5,
   "id": "4af77287-2a25-4bb5-9366-b73bd468c471",
   "metadata": {
    "jupyter": {
     "source_hidden": true
    },
    "tags": []
   },
   "outputs": [],
   "source": [
    "def readgrid(grid_file):\n",
    "    \"\"\"read grid\"\"\"\n",
    "    with open(grid_file, 'r') as f:\n",
    "        lines = f.readlines()\n",
    "    headers = ['HORIZONTAL POINTS\\n', 'HORIZONTAL LINES\\n', 'VERTICAL POINTS\\n', 'VERTICAL LINES\\n', 'END\\n']\n",
    "    hpoints, hlines, vpoints, vlines = [],[],[],[]\n",
    "    l = []\n",
    "    for line in lines:\n",
    "        if line in headers:\n",
    "            index = headers.index(line)\n",
    "            if index == 1:\n",
    "                hpoints = l\n",
    "                l = []\n",
    "            if index == 2:\n",
    "                hlines = l\n",
    "                l = []\n",
    "            if index == 3:\n",
    "                vpoints = l\n",
    "                l = []\n",
    "            if index == 4:\n",
    "                vlines = l\n",
    "                l = []\n",
    "        l.append(line)\n",
    "    #print(len(hpoints)), print(len(hlines)), print(len(vpoints)), print(len(vlines))\n",
    "    #116,117\\n\n",
    "    hpoints, hlines, vpoints, vlines = tuple((hpoints[1:], hlines[1:], vpoints[1:], vlines[1:])) \n",
    "    points = [hpoints, vpoints]\n",
    "    lines = [hlines, vlines]\n",
    "    i = 0\n",
    "    for item in points:\n",
    "        l = []\n",
    "        for value in item:\n",
    "            #print(value)\n",
    "            x, y, z = tuple(value.split(','))\n",
    "            z = re.sub(r'[\\n]', '', z)\n",
    "            x, y, z = float(x), float(y), float(z)\n",
    "            #print(x,y,z)\n",
    "            l.append([x,y,z])\n",
    "        i = points.index(item)\n",
    "        if i == 0:\n",
    "            hpoints = l\n",
    "        else:\n",
    "            vpoints = l\n",
    "            \n",
    "    for item in lines:\n",
    "        l = []\n",
    "        for value in item:\n",
    "            a, b = tuple(value.split(','))\n",
    "            b = re.sub(r'[\\n]', '', b)\n",
    "            a, b = int(a), int(b)\n",
    "            #print(a,b)\n",
    "            l.append([a,b])\n",
    "        i = lines.index(item)\n",
    "        if i == 0:\n",
    "            hlines = l\n",
    "        else:\n",
    "            vlines = l\n",
    "            \n",
    "    horizontal = o3d.geometry.LineSet(\n",
    "        points=o3d.utility.Vector3dVector(hpoints),\n",
    "        lines=o3d.utility.Vector2iVector(hlines),\n",
    "    )\n",
    "    vertical = o3d.geometry.LineSet(\n",
    "        points=o3d.utility.Vector3dVector(vpoints),\n",
    "        lines=o3d.utility.Vector2iVector(vlines),\n",
    "    )\n",
    "    return horizontal, vertical"
   ]
  },
  {
   "cell_type": "markdown",
   "id": "9b047372-8d8d-4bac-bccb-de82e3bbc0c5",
   "metadata": {},
   "source": [
    "### find plane"
   ]
  },
  {
   "cell_type": "code",
   "execution_count": 6,
   "id": "78128da3-aef5-4db7-bd8e-6b756a225915",
   "metadata": {
    "jupyter": {
     "source_hidden": true
    },
    "tags": []
   },
   "outputs": [],
   "source": [
    "def find_plane(pcd):\n",
    "    \"\"\"find 8 points in plane of the COLMAP model which delimit the model\"\"\"\n",
    "    plane_model, inliers = pcd.segment_plane(distance_threshold=0.3,\n",
    "                                             ransac_n=10,\n",
    "                                             num_iterations=10000)\n",
    "    [a, b, c, d] = plane_model\n",
    "    #print(f\"Plane equation: {a:.2f}x + {b:.2f}y + {c:.2f}z + {d:.2f} = 0\")\n",
    "    #print(f'Normal Vector to the plane: {a: .2f}i + {b: .2f}j + {c: .2f}k')\n",
    "    normal = np.array([a,b,c])\n",
    "    unormal = normal/np.linalg.norm(normal)\n",
    "    #####\n",
    "    return unormal, plane_model"
   ]
  },
  {
   "cell_type": "code",
   "execution_count": 7,
   "id": "689fbe5e-dca7-434f-b77a-adcfc414e337",
   "metadata": {
    "jupyter": {
     "source_hidden": true
    },
    "tags": []
   },
   "outputs": [],
   "source": [
    "def rotation_matrix(unit_1, unit_2):\n",
    "    \"\"\"ROTATION MATRIX\"\"\"\n",
    "    v = np.cross(unit_1, unit_2)\n",
    "    s = np.linalg.norm(v)\n",
    "    c = np.dot(unit_1, unit_2)\n",
    "\n",
    "    I = np.identity(3)\n",
    "    m = f'0 {float(-v[2])} {float(v[1])}; {float(v[2])} 0 {float(-v[0])}; {float(-v[1])} {float(v[0])} 0'\n",
    "    V = np.matrix(m)\n",
    "\n",
    "    R = I + V + (V**2)*(1/(1+c))\n",
    "\n",
    "    return R"
   ]
  },
  {
   "cell_type": "markdown",
   "id": "2202f78c-c7d1-49a3-bfd4-100e8ab0f353",
   "metadata": {},
   "source": [
    "### Align models"
   ]
  },
  {
   "cell_type": "code",
   "execution_count": 8,
   "id": "27de83bc-02af-4e1a-a05b-6251d1a32238",
   "metadata": {
    "jupyter": {
     "source_hidden": true
    },
    "tags": []
   },
   "outputs": [],
   "source": [
    "# obtain camera poses of model\n",
    "#\n",
    "def get_cam(pcd):\n",
    "    points = np.asarray(pcd.points)\n",
    "    colors = np.asarray(pcd.colors)\n",
    "    purple = np.array([0.788,0.301,0.878]) #purple\n",
    "    green = np.array([0.023,0.698,0.078]) #green\n",
    "    cam_p = []\n",
    "    for item in list(zip(points,colors)):\n",
    "        c1 = item[1] == green\n",
    "        c2 = item[1] == purple\n",
    "        if c1.all() or c2.all():\n",
    "            cam_p.append(item[0])\n",
    "    print(len(cam_p))\n",
    "    return cam_p\n",
    "        "
   ]
  },
  {
   "cell_type": "code",
   "execution_count": 9,
   "id": "b7150702-2e66-4dba-b837-013c56f3f4b9",
   "metadata": {
    "jupyter": {
     "source_hidden": true
    },
    "tags": []
   },
   "outputs": [],
   "source": [
    "def paint_cams(camera_poses):\n",
    "    \"\"\"paint camera poses from all models\"\"\"\n",
    "    pcl = []\n",
    "    colors = [\n",
    "        [0.286, 0.341, 0.894],  #blue\n",
    "        [0.858, 0.262, 0.290],  #red\n",
    "        [0.129, 0.792, 0.215],  #green\n",
    "        [0.803, 0.317, 0.901],  #purple\n",
    "        [0.901, 0.588, 0.317],  #orange\n",
    "        [0.141, 0.839, 0.756],  #light-blue\n",
    "        [0.843, 0.776, 0.015],  #yellow\n",
    "        [0.768, 0.368, 0.109]   #brown\n",
    "    ] \n",
    "    print(type(camera_poses))\n",
    "    i = 0\n",
    "    for item in camera_poses:\n",
    "        #ind = camera_poses.index(item)\n",
    "        pcd = o3d.geometry.PointCloud()\n",
    "        pcd.points = o3d.utility.Vector3dVector(item)\n",
    "        pcd.paint_uniform_color(colors[i])\n",
    "        pcl.append(pcd)\n",
    "        i+=1\n",
    "        \n",
    "    #o3d.visualization.draw_geometries([pcl])\n",
    "    return pcl"
   ]
  },
  {
   "cell_type": "code",
   "execution_count": 10,
   "id": "f456f394-6b03-4a9a-b2b0-a2989828f6f3",
   "metadata": {
    "jupyter": {
     "source_hidden": true
    },
    "tags": []
   },
   "outputs": [],
   "source": [
    "def translatePC(pose_ref, ref):\n",
    "    \"\"\"for aligning camera poses from all models together\"\"\"\n",
    "    \"\"\"[cposes,cr_Aposes,cr_NAposes,c_randposes,c_5fpsposes]\"\"\"\n",
    "    #center10 = camera_poses[1]\n",
    "    #right = camera_poses[2]\n",
    "    #left = camera_poses[3]\n",
    "    #cr_notA = camera_poses[4]\n",
    "    #center5 = camera_poses[5]\n",
    "    #summer = camera_poses[0]\n",
    "    ref = np.array(ref)\n",
    "    t_vector = []\n",
    "    for pose in pose_ref:\n",
    "        t = ref - np.array(pose)\n",
    "        t_vector.append(t)\n",
    "        print(t)\n",
    "    \n",
    "    return t_vector"
   ]
  },
  {
   "cell_type": "code",
   "execution_count": 11,
   "id": "748a21cd-f199-41a8-a222-692e73adb2dd",
   "metadata": {
    "jupyter": {
     "source_hidden": true
    },
    "tags": []
   },
   "outputs": [],
   "source": [
    "def get_mean_vector(points):\n",
    "    \"\"\"get mean unit vector from set of points, assumes first point is the reference\"\"\"\n",
    "    ref = np.array(points[0])\n",
    "    unit_vectors = np.array([0,0,0])\n",
    "    for point in points[1:]:\n",
    "        vector = np.array(point) - ref\n",
    "        unit = vector / np.linalg.norm(vector)\n",
    "        unit_vectors = np.vstack((unit_vectors, unit))\n",
    "        \n",
    "    mat = np.matrix(unit_vectors[1:])\n",
    "    meanv = mat.mean(0)\n",
    "    meanv = np.asarray(meanv[0])[0]\n",
    "    meanv = meanv / np.linalg.norm(meanv)\n",
    "    return meanv"
   ]
  },
  {
   "cell_type": "markdown",
   "id": "e1148958-c01f-4e0e-8795-61d4b1e729f6",
   "metadata": {},
   "source": [
    "# Paths"
   ]
  },
  {
   "cell_type": "code",
   "execution_count": 12,
   "id": "b9dd7c1e-7f27-424e-8776-c2204551d80e",
   "metadata": {
    "tags": []
   },
   "outputs": [],
   "source": [
    "#path to models\n",
    "path = os.getenv('PATH')"
   ]
  },
  {
   "cell_type": "markdown",
   "id": "0ebe9ad9-cf09-47dc-a575-63c4cbe7383d",
   "metadata": {},
   "source": [
    "### get data"
   ]
  },
  {
   "cell_type": "code",
   "execution_count": 13,
   "id": "1b0f2cb3-4317-4797-af70-d4661b6cebf9",
   "metadata": {
    "tags": []
   },
   "outputs": [
    {
     "name": "stdout",
     "output_type": "stream",
     "text": [
      "grid\n",
      "summer_20fps\n",
      "274\n",
      "summer_c&r\n",
      "522\n",
      "winter c10fps\n",
      "150\n",
      "winter r10fps\n",
      "149\n",
      "winter left 10fps\n",
      "210\n",
      "winter center&right not Aligned\n",
      "300\n",
      "winter center random 80 fps\n",
      "170\n",
      "winter center 5fps\n",
      "150\n"
     ]
    }
   ],
   "source": [
    "#grid\n",
    "print('grid')\n",
    "grid = Path(path, 'grid.txt')\n",
    "horizontal, vertical = readgrid(grid)\n",
    "grid = [horizontal, vertical]\n",
    "#summer center 30fps\n",
    "print('summer_20fps')\n",
    "s = Path(path, 'summer30fps.txt')\n",
    "pcd = readmodel(s)\n",
    "sposes = get_cam(pcd)\n",
    "sposes = np.array(sposes)\n",
    "#summer center right 30fps\n",
    "print('summer_c&r')\n",
    "s2 = Path(path, 'summer_centerright.txt')\n",
    "pcd = readmodel(s2)\n",
    "s2poses = get_cam(pcd)\n",
    "s2poses = np.array(s2poses)\n",
    "#center 10fps\n",
    "print('winter c10fps')\n",
    "c = Path(path, 'center10fps.txt')\n",
    "pcd = readmodel(c)\n",
    "cposes = get_cam(pcd)\n",
    "cposes = np.array(cposes)\n",
    "#right 10fps\n",
    "print('winter r10fps')\n",
    "r = Path(path, 'right10fps.txt')\n",
    "pcd = readmodel(r)\n",
    "rposes = get_cam(pcd)\n",
    "rposes = np.array(rposes)\n",
    "#left 10fps\n",
    "print('winter left 10fps')\n",
    "l = Path(path, 'left10fps.txt')\n",
    "pcd = readmodel(l)\n",
    "lposes = get_cam(pcd)\n",
    "lposes = np.array(lposes)\n",
    "#center right noisy\n",
    "print('winter center&right not Aligned')\n",
    "cr_NA = Path(path, 'center_rightNOTA.txt')\n",
    "pcd = readmodel(cr_NA)\n",
    "cr_NAposes = get_cam(pcd)\n",
    "cr_NAposes = np.array(cr_NAposes)\n",
    "#center rm 20% randomly\n",
    "print('winter center random 80 fps')\n",
    "c_rand = Path(path, 'centerrand80.txt')\n",
    "pcd = readmodel(c_rand)\n",
    "c_randposes = get_cam(pcd)\n",
    "c_randposes = np.array(c_randposes)\n",
    "#center 5fps\n",
    "print('winter center 5fps')\n",
    "c_5fps = Path(path, 'center5fps.txt')\n",
    "pcd = readmodel(c_5fps)\n",
    "c_5fpsposes = get_cam(pcd)\n",
    "c_5fpsposes = np.array(c_5fpsposes)\n",
    "#Path3 = '/home/rapires/Documents/Exp_Thesis/python-scripts/data/cam2_centralright10fps/localization/entire_model.txt'"
   ]
  },
  {
   "cell_type": "markdown",
   "id": "bbd887e5-3987-4fe3-9643-8229b65f9762",
   "metadata": {},
   "source": [
    "### Main"
   ]
  },
  {
   "cell_type": "code",
   "execution_count": 14,
   "id": "861026eb-e912-42a8-9b95-b60a89745afc",
   "metadata": {
    "tags": []
   },
   "outputs": [],
   "source": [
    "#              [sposes, cposes, rposes, lposes, cr_NAposes, c_randposes, c_5fpsposes, s2_poses]\n",
    "#              [blue,   red,    green,  purple, orange,     light-blue,  yellow,      brown]\n",
    "camera_poses = [sposes, cposes, rposes, lposes, cr_NAposes, c_randposes, c_5fpsposes, s2poses]\n",
    "#translate all to cposes"
   ]
  },
  {
   "cell_type": "code",
   "execution_count": 15,
   "id": "c35911b0-b8fd-43a6-bf24-6addb7d93a19",
   "metadata": {
    "tags": []
   },
   "outputs": [
    {
     "name": "stdout",
     "output_type": "stream",
     "text": [
      "<class 'list'>\n"
     ]
    }
   ],
   "source": [
    "pcl = paint_cams(camera_poses)"
   ]
  },
  {
   "cell_type": "code",
   "execution_count": 16,
   "id": "248183b1-ae1a-48e9-8427-4b98cc25f297",
   "metadata": {
    "tags": []
   },
   "outputs": [],
   "source": [
    "summer = sposes[:10]\n",
    "uv_summer = get_mean_vector(summer)\n",
    "uv_grid = np.array([0,1,0])\n",
    "R = rotation_matrix(uv_summer, uv_grid)"
   ]
  },
  {
   "cell_type": "code",
   "execution_count": 17,
   "id": "1abce621-7c60-4c2e-902b-56b7a8f25695",
   "metadata": {
    "tags": []
   },
   "outputs": [
    {
     "data": {
      "text/plain": [
       "PointCloud with 274 points."
      ]
     },
     "execution_count": 17,
     "metadata": {},
     "output_type": "execute_result"
    }
   ],
   "source": [
    "pcl[0].rotate(R, [0,0,0])\n",
    "pcl[0].translate([40, 10, 5])"
   ]
  },
  {
   "cell_type": "code",
   "execution_count": 18,
   "id": "6cfa198e-726b-4eac-b235-154fb4c24a3e",
   "metadata": {},
   "outputs": [
    {
     "name": "stdout",
     "output_type": "stream",
     "text": [
      "[ 66 320 422]\n"
     ]
    }
   ],
   "source": [
    "pbrown = np.asarray(pcl[7].points)\n",
    "print(np.argmin(pbrown, axis=0))"
   ]
  },
  {
   "cell_type": "code",
   "execution_count": 19,
   "id": "6e940d93-dbbd-45d7-a6e5-efbd5883340d",
   "metadata": {
    "tags": []
   },
   "outputs": [
    {
     "name": "stdout",
     "output_type": "stream",
     "text": [
      "[-79.89512432  11.49350218  -1.83466934]\n"
     ]
    }
   ],
   "source": [
    "A = np.asarray(pcl[0].points)\n",
    "B = np.asarray(pcl[7].points)\n",
    "translate_summer = A[9] - B[146]\n",
    "print(translate_summer)\n",
    "# A[10] B[257]\n",
    "\n",
    "#rA = o3d.geometry.PointCloud()\n",
    "#rA.points = o3d.utility.Vector3dVector([A[9]]) # move 2 cam summer here\n",
    "#rA.paint_uniform_color([0.031, 0.027, 0.027])\n",
    "\n",
    "#rB = o3d.geometry.PointCloud()\n",
    "#rB.points = o3d.utility.Vector3dVector([B[146]])\n",
    "#rB.paint_uniform_color([0.031, 0.027, 0.027])"
   ]
  },
  {
   "cell_type": "code",
   "execution_count": 20,
   "id": "d147e91d-1af0-443a-99f3-c10f3a9f79e7",
   "metadata": {
    "tags": []
   },
   "outputs": [],
   "source": [
    "#o3d.visualization.draw_geometries([pcl[0], pcl[7], rA, rB])"
   ]
  },
  {
   "cell_type": "markdown",
   "id": "e2be4914-b8ef-47cd-9dab-a4d8b686f9fa",
   "metadata": {},
   "source": [
    "### Get reference for translations"
   ]
  },
  {
   "cell_type": "code",
   "execution_count": 21,
   "id": "e717a58e-0106-4b10-bef2-fa5d31f272e3",
   "metadata": {
    "tags": []
   },
   "outputs": [
    {
     "name": "stdout",
     "output_type": "stream",
     "text": [
      "274\n"
     ]
    },
    {
     "data": {
      "text/plain": [
       "PointCloud with 1 points."
      ]
     },
     "execution_count": 21,
     "metadata": {},
     "output_type": "execute_result"
    }
   ],
   "source": [
    "summer = np.asarray(pcl[0].points)\n",
    "print(len(summer))\n",
    "ref = o3d.geometry.PointCloud()\n",
    "ref.points = o3d.utility.Vector3dVector([summer[10]])\n",
    "ref.paint_uniform_color([0.839, 0.470, 0.019])\n",
    "#sposes[0]"
   ]
  },
  {
   "cell_type": "code",
   "execution_count": 22,
   "id": "976980c2-c12c-43da-ad9e-8f3baa67f452",
   "metadata": {
    "tags": []
   },
   "outputs": [
    {
     "name": "stdout",
     "output_type": "stream",
     "text": [
      "[ 66 320 422]\n"
     ]
    }
   ],
   "source": [
    "ref_red = np.asarray(pcl[1].points)[0]\n",
    "ref_green = np.asarray(pcl[2].points)[79] #95 79 14\n",
    "ref_purple = np.asarray(pcl[3].points)[85]\n",
    "ref_orange = np.asarray(pcl[4].points)[154]\n",
    "ref_lightb= np.asarray(pcl[5].points)[143]\n",
    "ref_yellow = np.asarray(pcl[6].points)[0]\n",
    "ref_brown = np.asarray(pcl[7].points)[422]\n",
    "\n",
    "pbrown = np.asarray(pcl[7].points)\n",
    "print(np.argmin(pbrown, axis=0))"
   ]
  },
  {
   "cell_type": "code",
   "execution_count": 23,
   "id": "65a732f0-9625-4e26-858d-c95b739127e8",
   "metadata": {
    "tags": []
   },
   "outputs": [],
   "source": [
    "#[sposes, cposes, rposes, lposes, cr_NAposes, c_randposes, c_5fpsposes]\n",
    "ref_list = [ref_red, ref_green, ref_purple, ref_orange, ref_lightb, ref_yellow, ref_brown]"
   ]
  },
  {
   "cell_type": "code",
   "execution_count": 24,
   "id": "f36657d6-cf66-4583-b5a2-c59577cf70e3",
   "metadata": {
    "tags": []
   },
   "outputs": [
    {
     "name": "stdout",
     "output_type": "stream",
     "text": [
      "[-13.42244934   1.63053919  -0.05434582]\n",
      "[-7.59224493e+01  1.63053919e+00 -5.43458228e-02]\n",
      "[-6.35302456e+01  1.46241577e+01 -6.16102628e-02]\n",
      "[-29.79860045  -4.24440936   0.29477504]\n",
      "[-13.42244934   1.63053919  -0.05434582]\n",
      "[-13.8657394    1.63053919  -2.6686569 ]\n",
      "[-81.7813468  -92.93396008  -1.5611885 ]\n"
     ]
    }
   ],
   "source": [
    "t_list = translatePC(ref_list, summer[10])\n",
    "# t_aligned, t_notaligned, t_fps5from scipy.stats import chi2"
   ]
  },
  {
   "cell_type": "code",
   "execution_count": 25,
   "id": "155f2cd3-887b-4696-a872-e645042e5b68",
   "metadata": {
    "tags": []
   },
   "outputs": [
    {
     "name": "stdout",
     "output_type": "stream",
     "text": [
      "<class 'list'>\n"
     ]
    },
    {
     "data": {
      "text/plain": [
       "PointCloud with 522 points."
      ]
     },
     "execution_count": 25,
     "metadata": {},
     "output_type": "execute_result"
    }
   ],
   "source": [
    "print(type(pcl))\n",
    "pcl[1].translate(t_list[0]) #good\n",
    "pcl[2].translate(t_list[1])\n",
    "pcl[3].translate(t_list[2])\n",
    "pcl[4].translate(t_list[3])\n",
    "pcl[4].translate([0, 6, 0])\n",
    "pcl[5].translate(t_list[4])\n",
    "pcl[6].translate(t_list[5]) #good\n",
    "pcl[7].translate(translate_summer)"
   ]
  },
  {
   "cell_type": "code",
   "execution_count": 26,
   "id": "a28cf466-5012-40fa-8c0e-8806cd8d561a",
   "metadata": {},
   "outputs": [
    {
     "data": {
      "text/plain": [
       "PointCloud with 522 points."
      ]
     },
     "execution_count": 26,
     "metadata": {},
     "output_type": "execute_result"
    }
   ],
   "source": [
    "# rotate summer 2 views\n",
    "R = o3d.geometry.get_rotation_matrix_from_xyz((0, 0, math.pi/220))\n",
    "pcl[7].rotate(R)\n",
    "A = np.asarray(pcl[0].points)\n",
    "B = np.asarray(pcl[7].points)\n",
    "translate_summer = A[9] - B[146]\n",
    "pcl[7].translate(translate_summer)"
   ]
  },
  {
   "cell_type": "code",
   "execution_count": 27,
   "id": "3188415a-6fba-4fe3-9ef2-9f2ed63e140e",
   "metadata": {
    "tags": []
   },
   "outputs": [],
   "source": [
    "#for summer 2 cam views, this being a pain in the ass\n",
    "summer2 = np.asarray(pcl[7].points)\n",
    "summer2 = summer2[261:266]\n",
    "#ps = np.array(summer2)\n",
    "ps1 = o3d.geometry.PointCloud()\n",
    "ps1.points = o3d.utility.Vector3dVector(summer2)\n",
    "ps1.paint_uniform_color([0, 0, 0])\n",
    "uv_summer2 = get_mean_vector(summer2)\n",
    "#uv_grid = np.array([0,1,0])\n",
    "#R = rotation_matrix(uv_summer2, uv_grid)\n",
    "#pcl[7].rotate(R)\n",
    "#pcl[7].translate([-1, 2.5, 0])"
   ]
  },
  {
   "cell_type": "code",
   "execution_count": 28,
   "id": "d0bcab64-0626-4d9e-807e-9fe1caf7ce85",
   "metadata": {
    "tags": []
   },
   "outputs": [],
   "source": [
    "#plot = [pcl[4]] + [bbox]\n",
    "plot = pcl + grid + [ref] #+ [ps1]\n",
    "o3d.visualization.draw_geometries(plot)"
   ]
  },
  {
   "cell_type": "markdown",
   "id": "4332838a-f13b-414a-b83d-f97f7aa09246",
   "metadata": {},
   "source": [
    "### create croping box, so mahalanobis distance is measured in same area"
   ]
  },
  {
   "cell_type": "code",
   "execution_count": 29,
   "id": "fc45c9e3-710d-4cc8-a8e2-ea0943c39542",
   "metadata": {
    "tags": []
   },
   "outputs": [
    {
     "name": "stdout",
     "output_type": "stream",
     "text": [
      "std::vector<Eigen::Vector3d> with 8 elements.\n",
      "Use numpy.asarray() to access data.\n"
     ]
    }
   ],
   "source": [
    "box = np.array([[35, 0, 10],\n",
    "       [50, 0, 10],\n",
    "       [35, 0, -5],\n",
    "       [50, 0, -5],\n",
    "       [35, 155, 10],\n",
    "       [50, 155, 10],\n",
    "       [35, 155, -5],\n",
    "       [50, 155, -5],\n",
    "      ])\n",
    "points = o3d.utility.Vector3dVector(box)\n",
    "print(points)\n",
    "bbox = o3d.geometry.OrientedBoundingBox.create_from_points(points)"
   ]
  },
  {
   "cell_type": "code",
   "execution_count": 30,
   "id": "6504d2ab-9d47-4ab1-a68f-fb9177f7865b",
   "metadata": {
    "tags": []
   },
   "outputs": [],
   "source": [
    "#[sposes, cposes, rposes, lposes, cr_NAposes, c_randposes, c_5fpsposes, s2poses]\n",
    "pcl[5] = pcl[5].crop(bbox)\n",
    "pcl[3] = pcl[3].crop(bbox)\n",
    "pcl[4] = pcl[4].crop(bbox)\n",
    "pcl[6] = pcl[6].crop(bbox)\n",
    "pcl[7] = pcl[7].crop(bbox)"
   ]
  },
  {
   "cell_type": "code",
   "execution_count": 31,
   "id": "243a7e44-780a-4490-9119-f79b8b48a9d2",
   "metadata": {
    "tags": []
   },
   "outputs": [],
   "source": [
    "#plot = [pcl[4]] + [bbox]\n",
    "plot = pcl + grid + [ref] #+ [bbox]"
   ]
  },
  {
   "cell_type": "code",
   "execution_count": 32,
   "id": "188c9a85-cbc7-47e9-b8e6-1231ce5006b2",
   "metadata": {
    "tags": []
   },
   "outputs": [],
   "source": [
    "#plot camera poses \n",
    "o3d.visualization.draw_geometries(plot)"
   ]
  },
  {
   "cell_type": "markdown",
   "id": "4e6f0e71-5b69-474b-a729-56d9fccae572",
   "metadata": {},
   "source": [
    "### MAHALANOBIS ONE ZONE"
   ]
  },
  {
   "cell_type": "code",
   "execution_count": 33,
   "id": "aed8999a-b0e4-4168-ba9a-0ee2649ddb40",
   "metadata": {
    "tags": []
   },
   "outputs": [],
   "source": [
    "#new croped data points\n",
    "cposes,cr_Aposes,cr_NAposes,c_randposes,c_5fpsposes,s2_poses = pcl[0].points, pcl[1].points, pcl[2].points, pcl[3].points, pcl[4].points, pcl[7].points\n",
    "cposes,cr_Aposes,cr_NAposes,c_randposes,c_5fpsposes,s2_poses = np.asarray(cposes),np.asarray(cr_Aposes),np.asarray(cr_NAposes),np.asarray(c_randposes),np.asarray(c_5fpsposes),np.asarray(s2_poses)\n",
    "\n",
    "\n",
    "sposes, cposes, rposes, lposes, crNAposes, crandposes, c5poses = pcl[0].points, pcl[1].points, pcl[2].points, pcl[3].points, pcl[4].points, pcl[5].points, pcl[6].points\n",
    "sposes, cposes, rposes, lposes, crNAposes, crandposes, c5poses = np.asarray(sposes),np.asarray(cposes),np.asarray(rposes),np.asarray(lposes),np.asarray(crNAposes),np.asarray(crandposes),np.asarray(c5poses)"
   ]
  },
  {
   "cell_type": "code",
   "execution_count": 34,
   "id": "de3ae114-3298-4994-8fa5-7cc2c9a14ee5",
   "metadata": {
    "tags": []
   },
   "outputs": [
    {
     "name": "stdout",
     "output_type": "stream",
     "text": [
      "[[ 3.55043305e-01 -2.48557518e+01  4.36179804e-02]\n",
      " [-2.48557518e+01  1.92568234e+03 -3.25267439e+00]\n",
      " [ 4.36179804e-02 -3.25267439e+00  6.48331416e-03]]\n",
      "[38.80874678 78.4233542   4.82853704]\n",
      "16.26623619623813\n"
     ]
    }
   ],
   "source": [
    "covariance  = np.cov(sposes, rowvar=False)\n",
    "covariance_pm1 = np.linalg.matrix_power(covariance, -1)\n",
    "centerpoint = np.mean(sposes , axis=0)\n",
    "\n",
    "cutoff = chi2.ppf(0.999, 3)\n",
    "print(covariance)\n",
    "print(centerpoint)\n",
    "print(cutoff)"
   ]
  },
  {
   "cell_type": "code",
   "execution_count": 35,
   "id": "ba357d0a-aaa5-4437-aa10-b05285a1247b",
   "metadata": {
    "tags": []
   },
   "outputs": [],
   "source": [
    "#compute distances \n",
    "#this has p2 is center_point and p1 every point of other cam poses.\n",
    "#def detect_out(poses,centerpoint,covariance_pm1, cutoff):\n",
    "def detect_out(poses,centerpoint,covariance_pm1):\n",
    "    p2 = centerpoint\n",
    "    distances = []\n",
    "    for p1 in poses:\n",
    "        distance = (p1-p2).T.dot(covariance_pm1).dot(p1-p2)\n",
    "        #print(distance)\n",
    "        distance = math.sqrt(distance)\n",
    "        distances.append(distance)\n",
    "    distances = np.array(distances)\n",
    "    #outlierIndexes = np.where(distances > cutoff)\n",
    "    #print(distances[:10])\n",
    "    mean_maha = np.mean(distances, axis=0)\n",
    "    #print(len(outlierIndexes[0]))\n",
    "    #print(outlierIndexes)\n",
    "    print(mean_maha)"
   ]
  },
  {
   "cell_type": "code",
   "execution_count": 36,
   "id": "aa801f65-beab-4227-9e6e-ee3038ac2600",
   "metadata": {
    "tags": []
   },
   "outputs": [],
   "source": [
    "#[cposes,cr_Aposes,cr_NAposes,c_randposes,c_5fpsposes]"
   ]
  },
  {
   "cell_type": "code",
   "execution_count": 37,
   "id": "a312aee6-dbc4-4dea-9f75-d0fed13a4ae7",
   "metadata": {
    "tags": []
   },
   "outputs": [],
   "source": [
    "#detect_out(s2_poses,centerpoint,covariance_pm1,cutoff)"
   ]
  },
  {
   "cell_type": "markdown",
   "id": "9feaecba-6690-4452-bd80-852d61596c36",
   "metadata": {},
   "source": [
    "### MAHALANOBIS MULTIPLE ZONES"
   ]
  },
  {
   "cell_type": "code",
   "execution_count": 38,
   "id": "1ba046eb-3457-4bd8-9d33-281b5ed14437",
   "metadata": {},
   "outputs": [],
   "source": [
    "#               sc20fps,wc10fps,wr10fps,wl10fps,wc5fps, \n",
    "#              [sposes, cposes, rposes, lposes,cr_NAposes, c_randposes, c_5fpsposes, s2poses]\n",
    "chosen_paths = [pcl[0], pcl[1], pcl[2], pcl[3], pcl[4], pcl[6], pcl[7]]"
   ]
  },
  {
   "cell_type": "code",
   "execution_count": 39,
   "id": "acd96df1-6e3a-4fb1-ba03-cc3ceda6cad9",
   "metadata": {},
   "outputs": [],
   "source": [
    "z1 = np.array([[35, 0, 10],[50, 0, 10],[35, 0, -5],[50, 0, -5],\n",
    "       [35, 40, 10],[50, 40, 10],[35, 40, -5],[50, 40, -5],])\n",
    "z2 = np.array([[35, 0, 10],[50, 0, 10],[35, 0, -5],[50, 0, -5],\n",
    "       [35, 80, 10],[50, 80, 10],[35, 80, -5],[50, 80, -5],])\n",
    "z3 = np.array([[35, 0, 10],[50, 0, 10],[35, 0, -5],[50, 0, -5],\n",
    "       [35, 120, 10],[50, 120, 10],[35, 120, -5],[50, 120, -5],])\n",
    "z4 = np.array([[35, 0, 10],[50, 0, 10],[35, 0, -5],[50, 0, -5],\n",
    "       [35, 155, 10],[50, 155, 10],[35, 155, -5],[50, 155, -5],])\n",
    "zones = {'z1': o3d.utility.Vector3dVector(z1), 'z2': o3d.utility.Vector3dVector(z2), \n",
    "        'z3': o3d.utility.Vector3dVector(z3), 'z4': o3d.utility.Vector3dVector(z4)}\n",
    "zones = {k:  o3d.geometry.OrientedBoundingBox.create_from_points(v) for k, v in zones.items()}"
   ]
  },
  {
   "cell_type": "code",
   "execution_count": 40,
   "id": "4496dfe0-0772-415c-a423-52d2becee798",
   "metadata": {
    "tags": []
   },
   "outputs": [],
   "source": [
    "o3d.visualization.draw_geometries([zones['z1'], zones['z2'], zones['z3'], zones['z4']] + chosen_paths)"
   ]
  },
  {
   "cell_type": "code",
   "execution_count": 63,
   "id": "b502c34f-1b62-431b-9200-196c5b2d3087",
   "metadata": {},
   "outputs": [],
   "source": [
    "sc20fps_1, sc20fps_2, sc20fps_3, sc20fps_4 = pcl[0].crop(zones['z1']), pcl[0].crop(zones['z2']), pcl[0].crop(zones['z3']), pcl[0].crop(zones['z4'])\n",
    "scr20fps_1, scr20fps_2, scr20fps_3, scr20fps_4 = pcl[7].crop(zones['z1']), pcl[7].crop(zones['z2']), pcl[7].crop(zones['z3']), pcl[7].crop(zones['z4'])\n",
    "wc10fps_1, wc10fps_2, wc10fps_3, wc10fps_4 = pcl[1].crop(zones['z1']), pcl[1].crop(zones['z2']), pcl[1].crop(zones['z3']), pcl[1].crop(zones['z4'])\n",
    "wr10fps_1, wr10fps_2, wr10fps_3, wr10fps_4 = pcl[2].crop(zones['z1']), pcl[2].crop(zones['z2']), pcl[2].crop(zones['z3']), pcl[2].crop(zones['z4'])\n",
    "wl10fps_1, wl10fps_2, wl10fps_3, wl10fps_4 = pcl[3].crop(zones['z1']), pcl[3].crop(zones['z2']), pcl[3].crop(zones['z3']), pcl[3].crop(zones['z4'])\n",
    "wcr10fps_1, wcr10fps_2, wcr10fps_3, wcr10fps_4 = pcl[4].crop(zones['z1']), pcl[4].crop(zones['z2']), pcl[4].crop(zones['z3']), pcl[4].crop(zones['z4'])\n",
    "wc5fps_1, wc5fps_2, wc5fps_3, wc5fps_4 = pcl[6].crop(zones['z1']), pcl[6].crop(zones['z2']), pcl[6].crop(zones['z3']), pcl[6].crop(zones['z4'])\n",
    "#get array of points\n",
    "sc20fps_1, sc20fps_2, sc20fps_3, sc20fps_4 = np.asarray(sc20fps_1.points), np.asarray(sc20fps_2.points), np.asarray(sc20fps_3.points), np.asarray(sc20fps_4.points)\n",
    "scr20fps_1, scr20fps_2, scr20fps_3, scr20fps_4 = np.asarray(scr20fps_1.points), np.asarray(scr20fps_2.points), np.asarray(scr20fps_3.points), np.asarray(scr20fps_4.points)\n",
    "wc10fps_1, wc10fps_2, wc10fps_3, wc10fps_4 = np.asarray(wc10fps_1.points), np.asarray(wc10fps_2.points), np.asarray(wc10fps_3.points), np.asarray(wc10fps_4.points)\n",
    "wcr10fps_1, wcr10fps_2, wcr10fps_3, wcr10fps_4 = np.asarray(wcr10fps_1.points), np.asarray(wcr10fps_2.points), np.asarray(wcr10fps_3.points), np.asarray(wcr10fps_4.points)\n",
    "wr10fps_1, wr10fps_2, wr10fps_3, wr10fps_4 = np.asarray(wr10fps_1.points), np.asarray(wr10fps_2.points), np.asarray(wr10fps_3.points), np.asarray(wr10fps_4.points)\n",
    "wl10fps_1, wl10fps_2, wl10fps_3, wl10fps_4 = np.asarray(wl10fps_1.points), np.asarray(wl10fps_2.points), np.asarray(wl10fps_3.points), np.asarray(wl10fps_4.points)\n",
    "wc5fps_1, wc5fps_2, wc5fps_3, wc5fps_4 = np.asarray(wc5fps_1.points), np.asarray(wc5fps_2.points), np.asarray(wc5fps_3.points), np.asarray(wc5fps_4.points)"
   ]
  },
  {
   "cell_type": "code",
   "execution_count": 64,
   "id": "1368cacb-dc9f-4cb6-b098-ecc9c171fc06",
   "metadata": {},
   "outputs": [],
   "source": [
    "#Mahalanobis references for different zones\n",
    "# Zone 1\n",
    "covariance1  = np.cov(sc20fps_1, rowvar=False)\n",
    "covariance_pm1 = np.linalg.matrix_power(covariance1, -1)\n",
    "centerpoint1 = np.mean(sc20fps_1 , axis=0)\n",
    "# Zone 2\n",
    "covariance2  = np.cov(sc20fps_2, rowvar=False)\n",
    "covariance_pm2 = np.linalg.matrix_power(covariance2, -1)\n",
    "centerpoint2 = np.mean(sc20fps_2 , axis=0)\n",
    "# Zone 3\n",
    "covariance3  = np.cov(sc20fps_3, rowvar=False)\n",
    "covariance_pm3 = np.linalg.matrix_power(covariance3, -1)\n",
    "centerpoint3 = np.mean(sc20fps_3 , axis=0)\n",
    "# Zone 4\n",
    "covariance4  = np.cov(sc20fps_4, rowvar=False)\n",
    "covariance_pm4 = np.linalg.matrix_power(covariance4, -1)\n",
    "centerpoint4 = np.mean(sc20fps_4 , axis=0)"
   ]
  },
  {
   "cell_type": "code",
   "execution_count": 68,
   "id": "889bce49-0d4d-45b7-9391-09ad4c45cbfd",
   "metadata": {},
   "outputs": [
    {
     "name": "stdout",
     "output_type": "stream",
     "text": [
      "4.67879125509036\n"
     ]
    }
   ],
   "source": [
    "detect_out(scr20fps_4,centerpoint4,covariance_pm4)"
   ]
  },
  {
   "cell_type": "code",
   "execution_count": null,
   "id": "df9b1cf2-60c6-47a4-a207-cb6a2c66c972",
   "metadata": {},
   "outputs": [],
   "source": []
  },
  {
   "cell_type": "markdown",
   "id": "2ea3a8c0-1921-4986-9cf3-d57d27ba7768",
   "metadata": {},
   "source": [
    "### make plot"
   ]
  },
  {
   "cell_type": "code",
   "execution_count": 22,
   "id": "a5a653e3-1100-4f4f-9e3d-d01c5b82da42",
   "metadata": {},
   "outputs": [
    {
     "data": {
      "text/plain": [
       "PointCloud with 75 points."
      ]
     },
     "execution_count": 22,
     "metadata": {},
     "output_type": "execute_result"
    }
   ],
   "source": [
    "pcl[0].translate([-15, 100, 0])\n",
    "pcl[1].translate([0, 100, 0])\n",
    "pcl[2].translate([15, 100, 0])\n",
    "pcl[3].translate([30, 100, 0])\n",
    "pcl[4].translate([45, 100, 0])"
   ]
  },
  {
   "cell_type": "code",
   "execution_count": 1,
   "id": "fcf560f7-bb98-4be6-bf98-49617d373bfc",
   "metadata": {},
   "outputs": [
    {
     "ename": "NameError",
     "evalue": "name 'pcl' is not defined",
     "output_type": "error",
     "traceback": [
      "\u001b[0;31m---------------------------------------------------------------------------\u001b[0m",
      "\u001b[0;31mNameError\u001b[0m                                 Traceback (most recent call last)",
      "\u001b[0;32m<ipython-input-1-d5cfa4b80f91>\u001b[0m in \u001b[0;36m<module>\u001b[0;34m\u001b[0m\n\u001b[0;32m----> 1\u001b[0;31m \u001b[0mplot\u001b[0m \u001b[0;34m=\u001b[0m \u001b[0mpcl\u001b[0m \u001b[0;34m+\u001b[0m \u001b[0mgrid\u001b[0m\u001b[0;34m\u001b[0m\u001b[0;34m\u001b[0m\u001b[0m\n\u001b[0m\u001b[1;32m      2\u001b[0m \u001b[0mo3d\u001b[0m\u001b[0;34m.\u001b[0m\u001b[0mvisualization\u001b[0m\u001b[0;34m.\u001b[0m\u001b[0mdraw_geometries\u001b[0m\u001b[0;34m(\u001b[0m\u001b[0mplot\u001b[0m\u001b[0;34m)\u001b[0m\u001b[0;34m\u001b[0m\u001b[0;34m\u001b[0m\u001b[0m\n",
      "\u001b[0;31mNameError\u001b[0m: name 'pcl' is not defined"
     ]
    }
   ],
   "source": [
    "plot = pcl + grid\n",
    "o3d.visualization.draw_geometries(plot)"
   ]
  },
  {
   "cell_type": "code",
   "execution_count": 92,
   "id": "7ad01a26-8f2f-4415-a90d-aca9b6d35d92",
   "metadata": {},
   "outputs": [
    {
     "data": {
      "text/plain": [
       "PointCloud with 1 points."
      ]
     },
     "execution_count": 92,
     "metadata": {},
     "output_type": "execute_result"
    }
   ],
   "source": [
    "green = o3d.geometry.PointCloud()\n",
    "green.points = o3d.utility.Vector3dVector([ref_lightb])\n",
    "green.paint_uniform_color([0, 0, 0])"
   ]
  }
 ],
 "metadata": {
  "kernelspec": {
   "display_name": "Python 3",
   "language": "python",
   "name": "python3"
  },
  "language_info": {
   "codemirror_mode": {
    "name": "ipython",
    "version": 3
   },
   "file_extension": ".py",
   "mimetype": "text/x-python",
   "name": "python",
   "nbconvert_exporter": "python",
   "pygments_lexer": "ipython3",
   "version": "3.8.2"
  }
 },
 "nbformat": 4,
 "nbformat_minor": 5
}

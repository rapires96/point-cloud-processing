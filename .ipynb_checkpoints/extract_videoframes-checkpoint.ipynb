{
 "cells": [
  {
   "cell_type": "code",
   "execution_count": 3,
   "id": "6938c04d-ec40-4069-a445-86609de1524b",
   "metadata": {
    "tags": []
   },
   "outputs": [],
   "source": [
    "import pathlib\n",
    "import os\n",
    "import glob\n",
    "import cv2\n",
    "import re\n",
    "\n",
    "VIDEO_DIR = os.getenv('PATH')"
   ]
  },
  {
   "cell_type": "markdown",
   "id": "d9dff7fc-8816-4022-891e-b71fd8e984f6",
   "metadata": {},
   "source": [
    "### EXTRACT FPS FROM VIDEO"
   ]
  },
  {
   "cell_type": "code",
   "execution_count": 4,
   "id": "f4104392-34fe-44ae-9a2a-d014135188d6",
   "metadata": {},
   "outputs": [],
   "source": [
    "def video_frames(video, folder):\n",
    "    vidcap = cv2.VideoCapture(video)\n",
    "    success,image = vidcap.read()\n",
    "    count = 0\n",
    "    while success:\n",
    "      cv2.imwrite(folder+\"/frame%d.jpg\" % count, image)     # save frame as JPEG file      \n",
    "      success,image = vidcap.read()\n",
    "      #print('Read a new frame: ', success)\n",
    "      count += 1"
   ]
  },
  {
   "cell_type": "code",
   "execution_count": 8,
   "id": "a5689ed8-7c6b-4d05-b7d9-f81c816f06b6",
   "metadata": {},
   "outputs": [],
   "source": [
    "def get_framerates(videos):\n",
    "    os.system('touch metadata.txt')\n",
    "    videoFR = dict()\n",
    "    for video in videos:\n",
    "        os.system(f'mediainfo {video} > metadata.txt')\n",
    "        with open('metadata.txt', 'r') as f:\n",
    "            lines = f.readlines()\n",
    "        keys = [[line, lines.index(line)] for line in lines if ':' not in line and '\\n' != line]\n",
    "        metadata = {keys[i][0]: lines[keys[i][1]+1:keys[i+1][1]-1] if keys[i] != keys[-1] else lines[keys[i][1]+1:-1] for i in range(len(keys))}\n",
    "        for i in metadata['Video\\n']:\n",
    "            if 'Frame rate' in i:\n",
    "                frame_rate = i.split(' ')[-3]\n",
    "        videoFR[video] = round(float(frame_rate))\n",
    "        return videoFR"
   ]
  },
  {
   "cell_type": "code",
   "execution_count": 6,
   "id": "5b71a73e-936e-4194-927a-14d204da61e1",
   "metadata": {
    "tags": []
   },
   "outputs": [
    {
     "name": "stdout",
     "output_type": "stream",
     "text": [
      "/home/rapires/Documents/Exp_Thesis/OTANIEMI/Summer/IMG_3891.mp4\n"
     ]
    }
   ],
   "source": [
    "videos = glob.glob(str(pathlib.Path(VIDEO_DIR, '*.mp4')))\n",
    "videos.sort()\n",
    "#videoFR = get_framerates(videos) #d ict\n",
    "#videos = ['IMG_3884.mp4']\n",
    "video = videos[-4]\n",
    "print(video)"
   ]
  },
  {
   "cell_type": "code",
   "execution_count": 7,
   "id": "223d35d6-309a-4f65-bb02-b7f17a454f97",
   "metadata": {
    "tags": []
   },
   "outputs": [
    {
     "name": "stdout",
     "output_type": "stream",
     "text": [
      "/home/rapires/Documents/Exp_Thesis/OTANIEMI/Summer/IMG_3891.mp4\n",
      "/home/rapires/Documents/Exp_Thesis/OTANIEMI/Summer/IMG_3891\n"
     ]
    }
   ],
   "source": [
    "#print(videos)\n",
    "#for video in videos:\n",
    "print(video)\n",
    "folder = video.rsplit('.',1)[0]\n",
    "print(folder)\n",
    "os.mkdir(folder)\n",
    "video_frames(video, folder)\n",
    "\n",
    "    #print(f'{video} has frame rate is {round(float(frame_rate))} FPS')\n",
    "#for key in videoFR.keys(): print(f'{key} {videoFR[key]}  fps') "
   ]
  },
  {
   "cell_type": "code",
   "execution_count": 12,
   "id": "a155575f-aa6f-4be9-9426-d6ae506b8952",
   "metadata": {},
   "outputs": [
    {
     "data": {
      "text/plain": [
       "[]"
      ]
     },
     "execution_count": 12,
     "metadata": {},
     "output_type": "execute_result"
    }
   ],
   "source": [
    "videos"
   ]
  }
 ],
 "metadata": {
  "kernelspec": {
   "display_name": "Python 3",
   "language": "python",
   "name": "python3"
  },
  "language_info": {
   "codemirror_mode": {
    "name": "ipython",
    "version": 3
   },
   "file_extension": ".py",
   "mimetype": "text/x-python",
   "name": "python",
   "nbconvert_exporter": "python",
   "pygments_lexer": "ipython3",
   "version": "3.8.2"
  }
 },
 "nbformat": 4,
 "nbformat_minor": 5
}

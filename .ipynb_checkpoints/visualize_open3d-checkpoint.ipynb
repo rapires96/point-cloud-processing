{
 "cells": [
  {
   "cell_type": "code",
   "execution_count": 10,
   "id": "8d95a2c4-fd8b-4a0c-89a1-ec81d8c392f9",
   "metadata": {},
   "outputs": [],
   "source": [
    "import numpy as np\n",
    "import open3d as o3d\n",
    "from open3d import JVisualizer\n",
    "import os\n",
    "from pathlib import Path"
   ]
  },
  {
   "cell_type": "code",
   "execution_count": null,
   "id": "9264f131-ce00-463a-9895-cb284406073c",
   "metadata": {},
   "outputs": [],
   "source": [
    "PATH = str(os.getenv('PATH'))\n",
    "file = \"entire_model.txt\"\n",
    "p = Path(PATH, file)"
   ]
  },
  {
   "cell_type": "code",
   "execution_count": 11,
   "id": "9b5fb4af-eb4e-42a1-96b1-34f17671798f",
   "metadata": {},
   "outputs": [],
   "source": [
    "pcd = o3d.io.read_point_cloud(p, format='xyzrgb')"
   ]
  },
  {
   "cell_type": "code",
   "execution_count": 12,
   "id": "ba8f3aad-f5c6-4cde-8305-1f3aa5e1c6af",
   "metadata": {},
   "outputs": [
    {
     "data": {
      "application/vnd.jupyter.widget-view+json": {
       "model_id": "b4794cdac6274f09a770c16580d403d9",
       "version_major": 2,
       "version_minor": 0
      },
      "text/plain": [
       "JVisualizer with 1 geometries"
      ]
     },
     "metadata": {},
     "output_type": "display_data"
    }
   ],
   "source": [
    "visualizer = JVisualizer()\n",
    "visualizer.add_geometry(pcd)\n",
    "visualizer.show()"
   ]
  },
  {
   "cell_type": "code",
   "execution_count": 12,
   "id": "2fb5d82e-863e-4c12-8385-9c74d217be1a",
   "metadata": {},
   "outputs": [],
   "source": [
    "import numpy as np\n",
    "import open3d as o3d\n",
    "from open3d import JVisualizer\n",
    "%matplotlib widget\n",
    "\n",
    "points = (np.random.rand(1000, 3) - 0.5) / 4\n",
    "colors = np.random.rand(1000, 3)\n",
    "\n",
    "pcd = o3d.geometry.PointCloud()\n",
    "pcd.points = o3d.utility.Vector3dVector(points)\n",
    "pcd.colors = o3d.utility.Vector3dVector(colors)\n",
    "\n",
    "o3d.visualization.draw_geometries([pcd], zoom=0.3412,\n",
    "\t\t\t\t\t\t\t\tfront=[0.4257, -0.2125, -0.8795],\n",
    "                                lookat=[2.6172, 2.0475, 1.532],\n",
    "                                up=[-0.0694, -0.9768, 0.2024])\n",
    "#visualizer = JVisualizer()\n",
    "#visualizer.add_geometry(pcd)\n",
    "#visualizer.show()"
   ]
  }
 ],
 "metadata": {
  "kernelspec": {
   "display_name": "Python 3",
   "language": "python",
   "name": "python3"
  },
  "language_info": {
   "codemirror_mode": {
    "name": "ipython",
    "version": 3
   },
   "file_extension": ".py",
   "mimetype": "text/x-python",
   "name": "python",
   "nbconvert_exporter": "python",
   "pygments_lexer": "ipython3",
   "version": "3.8.2"
  }
 },
 "nbformat": 4,
 "nbformat_minor": 5
}

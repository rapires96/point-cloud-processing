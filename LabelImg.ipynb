{
 "cells": [
  {
   "cell_type": "markdown",
   "id": "0420aaf9-0273-420c-81f4-e9908c2990ed",
   "metadata": {},
   "source": [
    "### LabelImg"
   ]
  },
  {
   "cell_type": "code",
   "execution_count": 13,
   "id": "a98fe415-baec-435f-9d73-c5bcd66dcd91",
   "metadata": {
    "tags": []
   },
   "outputs": [],
   "source": [
    "import os\n",
    "from pathlib import Path\n",
    "import glob"
   ]
  },
  {
   "cell_type": "code",
   "execution_count": 14,
   "id": "deaa5d59-1964-4649-baa8-d8ac7a13b8cd",
   "metadata": {},
   "outputs": [],
   "source": [
    "IM_PATH = Path('/home/rapires/Documents/Exp_Thesis/OTANIEMI/otaniemi_25_04_2021/Models/mapper_Models/model_scenter30fps/images')\n",
    "\n",
    "LABELIMG = Path('/home/rapires/Documents/Packages/labelImg-master/labelImg.py')\n",
    "CLASSES = Path('/home/rapires/Documents/Packages/labelImg-master/classes.names')\n",
    "\n"
   ]
  },
  {
   "cell_type": "code",
   "execution_count": 15,
   "id": "4e7bf47a-8bda-47cb-b464-0568e3a3666a",
   "metadata": {},
   "outputs": [],
   "source": [
    "def run_label():\n",
    "    command = f'python3 {LABELIMG} {IM_PATH} {CLASSES}'\n",
    "    os.system(command)\n",
    "run_label()\n"
   ]
  }
 ],
 "metadata": {
  "kernelspec": {
   "display_name": "Python 3",
   "language": "python",
   "name": "python3"
  },
  "language_info": {
   "codemirror_mode": {
    "name": "ipython",
    "version": 3
   },
   "file_extension": ".py",
   "mimetype": "text/x-python",
   "name": "python",
   "nbconvert_exporter": "python",
   "pygments_lexer": "ipython3",
   "version": "3.8.2"
  }
 },
 "nbformat": 4,
 "nbformat_minor": 5
}
